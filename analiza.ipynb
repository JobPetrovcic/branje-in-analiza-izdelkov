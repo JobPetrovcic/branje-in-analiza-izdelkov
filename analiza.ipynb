{
 "cells": [
  {
   "cell_type": "markdown",
   "metadata": {},
   "source": [
    "Začnimo z uvažanjem podatkov in kode, ki jo bomo potrebovali:"
   ]
  },
  {
   "cell_type": "code",
   "execution_count": 2,
   "metadata": {},
   "outputs": [],
   "source": [
    "from branje_izdelkov import nalozi_vse_informacije_pandas\n",
    "df = nalozi_vse_informacije_pandas()\n",
    "from obdelava_informacij import obravnavaj_sestavino, obravnavaj_sestavine, dobi_stevilo_iz_niza"
   ]
  },
  {
   "cell_type": "markdown",
   "metadata": {},
   "source": [
    "Analizirali bomo sestavo piškotov. V bazi potrebujemo poiskati vrstico, ki jih ustreza. Pomagali si bomo s ključno besedo 'piškot'. z izbiro številke izberemo izdelek, oz. vnesemo 8, da dobimo nov seznam. V tem primeru sem izbral 1."
   ]
  },
  {
   "cell_type": "code",
   "execution_count": 3,
   "metadata": {},
   "outputs": [
    {
     "name": "stdout",
     "output_type": "stream",
     "text": [
      "Za 'MASLENI' sem našel naslednje možne zadetke:\n",
      "0: Spusti to sestavino.\n",
      "1: Masleni keksi.\n",
      "2: Fino pekovsko pecivo ??? masleni keksi\n",
      "3: MASLENI KAKAVOVI PIŠKOTI\n",
      "4: Masleni piškoti 160g (Shortbread fingers).\n",
      "5: Fino pekovsko pecivo - masleni keksi z mlečno čokolado (63%)\n",
      "6: MASLENI VANILIJEVI PIŠKOTI\n",
      "7: MASLENI ROGLJIČEK SPAR PREMIUM, 50G\n",
      "8: Izdelek ni med prikazanimi, pokaži naslednje.\n"
     ]
    }
   ],
   "source": [
    "izdelek = obravnavaj_sestavino('MASLENI')"
   ]
  },
  {
   "cell_type": "code",
   "execution_count": 75,
   "metadata": {},
   "outputs": [
    {
     "name": "stdout",
     "output_type": "stream",
     "text": [
      "Unnamed: 0                                                               5541\n",
      "ime                                                  MASLENI KAKAVOVI PIŠKOTI\n",
      "sestavine                   PŠENIČNA BELA MOKA, MASLO 28%, sladkor v prahu...\n",
      "kolicina                                                                 400g\n",
      "kcal                                                                   460,00\n",
      "Maščobe                                                               25,00 g\n",
      "od tega nasičene maščobe                                              16,00 g\n",
      "Ogljikovi hidrati                                                     51,00 g\n",
      "od tega sladkorji                                                     19,00 g\n",
      "Prehranske vlaknine                                                    2,50 g\n",
      "Beljakovine                                                            6,00 g\n",
      "Sol                                                                    0,13 g\n",
      "Name: 5541, dtype: object\n",
      "Sestavine so: PŠENIČNA BELA MOKA, MASLO 28%, sladkor v prahu, JAJČNI MELANŽ, kakav 1,9%, vanilin sladkor (kristalni sladkor, aroma: vanilin), jodirana sol.\n",
      "Index(['Maščobe', 'od tega nasičene maščobe', 'Ogljikovi hidrati',\n",
      "       'od tega sladkorji', 'Prehranske vlaknine', 'Beljakovine', 'Sol'],\n",
      "      dtype='object')\n"
     ]
    },
    {
     "data": {
      "text/plain": [
       "<AxesSubplot:>"
      ]
     },
     "execution_count": 75,
     "metadata": {},
     "output_type": "execute_result"
    },
    {
     "data": {
      "image/png": "[encoded data removed]",
      "text/plain": [
       "<Figure size 640x480 with 1 Axes>"
      ]
     },
     "metadata": {},
     "output_type": "display_data"
    }
   ],
   "source": [
    "print(izdelek)\n",
    "print(\"Sestavine so: \" + izdelek.sestavine)\n",
    "\n",
    "import matplotlib.pyplot as plt\n",
    "plt.close(\"all\")\n",
    "\n",
    "seznam_macro_hranil = izdelek.loc['Maščobe':'Sol'].index\n",
    "print(seznam_macro_hranil)\n",
    "#['Maščobe','od tega nasičene maščobe', 'Ogljikovi hidrati', 'od tega sladkorji', 'Prehranske vlaknine', 'Beljakovine', 'Sol']\n",
    "\n",
    "makro_hranila = izdelek[seznam_macro_hranil].apply(dobi_stevilo_iz_niza).transpose()\n",
    "makro_hranila.plot(use_index=True, kind='bar')"
   ]
  },
  {
   "cell_type": "markdown",
   "metadata": {},
   "source": [
    "Poiščimo še sestavine:"
   ]
  },
  {
   "cell_type": "code",
   "execution_count": 5,
   "metadata": {},
   "outputs": [
    {
     "name": "stdout",
     "output_type": "stream",
     "text": [
      "['AROMA VANILIN', 'JAJČNI MELANŽ', 'JODIRANA SOL', 'KAKAV', 'KRISTALNI SLADKOR', 'MASLO', 'PŠENIČNA BELA MOKA', 'SLADKOR V PRAHU']\n",
      "Za 'AROMA VANILIN' sem našel naslednje možne zadetke:\n",
      "0: Spusti to sestavino.\n",
      "1: VANILIN AROMA Z BARVILI\n",
      "2: Dr. Oetker Finesse naravna aroma bourbonske vanilije.\n",
      "3: AROMATIZIRANA MEŠANICA ZELIŠČNEGA ČAJA BRUSNICA\n",
      "4: Mleti sladkor z vanilinom.\n",
      "5: Naravna aroma limonine lupinice za pecivo in sladice.\n",
      "6: Aromatizirana pijača z okusom riža s kalcijem in vitamini. S sladilom.\n",
      "7: Aromatiziran alkoholni kis 9 %\n",
      "8: Izdelek ni med prikazanimi, pokaži naslednje.\n",
      "Za 'JAJČNI MELANŽ' sem našel naslednje možne zadetke:\n",
      "0: Spusti to sestavino.\n",
      "1: PIŠČANČJI PAPRIKAŠ z jajčnimi žličniki\n",
      "2: BIO VEGANSKI JAJČNI NADOMESTEK, iz ekološke pridelave (Kmetijstvo EU/ izven EU, AT-BIO-301). Rastlinski jajčni nadomestek nevtralnega okusa, na osnovi koruzne moke.\n",
      "3: Jajčni metuljčki (Farfalle) 500 g\n",
      "4: Fidelini jajčni. Sušene jajčne testenine, ki jih je potrebno termično obdelati po navodilih proizvajalca.\n",
      "5: ŠIROKI JAJČNI REZANCI- PIRINI, VALJANI\n",
      "6: Jajčni polži 31 (Lumache rigate) 400 g\n",
      "7: JUHA Z JAJČNIMI TESTENINAMI\n",
      "8: Izdelek ni med prikazanimi, pokaži naslednje.\n",
      "Za 'JODIRANA SOL' sem našel naslednje možne zadetke:\n",
      "0: Spusti to sestavino.\n",
      "1: Morska sol grobo mleta jodirana\n",
      "2: MORSKA SOL IZ POKRAJINE CAMARGUE (FRANCIJA), NEJODIRANA, ROČNO PRIDELANA\n",
      "3: Jodirana rafinirana morska sol\n",
      "4: Jodirana rafinirana morska sol\n",
      "5: Grobo mleta morska sol jodirana\n",
      "6: ZAČIMBNA SOL ZA PEČENEGA PIŠČANCA\n",
      "7: Mešanica arašidov in oreškov, praženih in soljenih.\n",
      "8: Izdelek ni med prikazanimi, pokaži naslednje.\n",
      "Za 'KAKAV' sem našel naslednje možne zadetke:\n",
      "0: Spusti to sestavino.\n",
      "1: Instant čokoladni napitek iz manj mastnega kakava s kalcijem in vitamini\n",
      "2: Fin pekovski izdelek. Kakavov vafelj izdelek (18%) polnjen s kakavovo kremo (49%) oblit z mlečno čokolado z alpskim mlekom (31%).\n",
      "3: Kakavovi keksi s čokoladnimi kapljicami.\n",
      "4: Instant oslajen manj masten kakavov prah z zmanjšano vsebnostjo sladkorja. Vir prehranske vlaknine.\n",
      "5: Čajno pecivo s kakavovim prelivom. Fini pekovski izdelek.\n",
      "6: Fino pekovsko sendvič pecivo s kakavovim kremnim polnjenjem (27%)\n",
      "7: Hrustljava temna čokolada z dodanimi kakavovimi zrni 80g.\n",
      "8: Izdelek ni med prikazanimi, pokaži naslednje.\n",
      "Za 'KAKAV' sem našel naslednje možne zadetke:\n",
      "0: Spusti to sestavino.\n",
      "1: Hrustljav vafelj, polnjen z lešnikovim kakavovim namazom in pšeničnimi krispiji.\n",
      "2: Hrustljav vafelj, polnjen z lešnikovim kakavovim namazom in pšeničnimi krispiji.\n",
      "3: Fin pekovski izdelek. Kakavov keks s koščki mlečne čokolade z alpskim mlekom (12%) in polnilom z okusom vanilije (25%).\n",
      "4: ČAJNO PECIVO PRELITO S ČOKOLADO (23 %). Kakavovi deli v čokoladi: najmanj 45 %.\n",
      "5: Mini rolada - polnjen biskvit s čokoladno kremo 20% in kakavovim oblivom 25%.\n",
      "6: PIŠKOTI S KREMO LEŠNIKA IN KAKAVA.\n",
      "7: KAKAVOV DESERTNI PRELIV\n",
      "8: Izdelek ni med prikazanimi, pokaži naslednje.\n",
      "Za 'KAKAV' sem našel naslednje možne zadetke:\n",
      "0: Spusti to sestavino.\n",
      "1: Fini pekovski izdelek. Piškoti z kakavovim polnilom (33 %).\n",
      "2: LIVITY CHIA SEMENA & KAKAVOVA ZRNA 30 G\n",
      "3: Sladkana mešanica z manj mastnim kakavovim prahom, vitamini in kalcijem.\n",
      "4: BIO PRESNA PLOŠČICA KOKOS IN KAKAV, LIVITY, 30G\n",
      "5: FINI PEKOVSKI IZDELEK. ČAJNO PECIVO S KAKAVOVO KREMO (30%).\n",
      "6: Instant mešanica za aromatiziran napitek z manj mastnim kakavom.\n",
      "7: MLEČNI NAPITEK S KAVO IN KAKAVOM, segret na ultravisoko temperaturo.\n",
      "8: Izdelek ni med prikazanimi, pokaži naslednje.\n",
      "Za 'KAKAV' sem našel naslednje možne zadetke:\n",
      "0: Spusti to sestavino.\n",
      "1: Instant čokoladni napitek iz manj mastnega kakava s kalcijem in vitamini\n",
      "2: Mlečna čokolada z alpskim mlekom s mlečno kremo z okusom vanilije (35%) in koščki kakavovega keksa (15%).\n",
      "3: Fini pekovski izdelek. Kakavovi piškoti z kakavovim polnilom (33 %).\n",
      "4: 4 KORNETI Z RASTLINSKIM SLADOLEDOM NA OSNOVI SOJE, s kakavovo glazuro in koščki lešnikov.\n",
      "5: Piškoti s kakavovo kremo (18 %) brez glutena in laktoze\n",
      "6: KREM SLADOLED Z BOROVNICAMI (36,8 %), KREM SLADOLED S SVEŽIM KREMNIM SIROM MASCARPONE (36,9 %), Z BELO ČOKOLADO* (12,8 %) IN BOROVNIČEVIM PRELIVOM Z BALZAMIČNIM KISOM (12,8 %) V PLASTEH, POSUTO Z LIOFILIZIRANIMI KOŠČKI BOROVNIC (0,7 %). *VSEBUJE RASTLINSKE MAŠČOBE POLEG KAKAVOVEGA MASLA.\n",
      "7: Fina temna čokolada z 70% kakavovih delov\n",
      "8: Izdelek ni med prikazanimi, pokaži naslednje.\n",
      "Za 'KAKAV' sem našel naslednje možne zadetke:\n",
      "0: Spusti to sestavino.\n",
      "1: Vafelj polnjen z lešnikovim-kakavovim namazom.\n",
      "2: BIO proteinska ploščica s čokoladnim oblivom (Kakavovi deli: min 53 %), z okusom piškotka. Vir beljakovin. Iz ekološke pridelave (Kmetijstvo EU/izven EU).\n",
      "3: SLADOLED Z OKUSOM VANILJE (54 %) IN SLADOLED Z OKUSOM BELE ČOKOLADE (42 %) OKRAŠEN S KAKAVOVIM OBLIVOM (4 %).\n",
      "4: BIO ploščica s čokoladnim oblivom 30% (Kakavovi deli: min 55 %), z mandljevo kremo in koščki karamele iz ekološke pridelave (Kmetijstvo EU/izven EU).\n",
      "5: Fino pekovsko pecivo - kakavovi keksi s polnilom iz mlečne kreme (47%).\n",
      "6: Kakavovi piškoti (25 %) in mlečna krema z okusom vanilje (12 %) na mlečni čokoladi z alpskim mlekom (63%).\n",
      "7: HIPP BIO GOT.ŽIT.KAŠA 200 G BANANA KAKAV\n",
      "8: Izdelek ni med prikazanimi, pokaži naslednje.\n",
      "Za 'KAKAV' sem našel naslednje možne zadetke:\n",
      "0: Spusti to sestavino.\n",
      "1: Pralineji iz mlečne čokolade z alpskim mlekom polnjeni z kakavovo kremo (40%).\n",
      "2: Mešanica kakavovega kremnega izdelka in kremnega izdelka z dodatki\n",
      "3: MLEČNI NAPITEK S KAKAVOM, segret na ultra visoko temperaturo.\n",
      "4: FINO PEKOVSKO PECIVO Z OKUSOM KOKOSA IN KAKAVOVIM OBLIVOM (19%)\n",
      "5: Kakav za pecivo\n",
      "6: Piškoti z mlekom, kakavom in čokolado. Fini pekovski izdelek.\n",
      "7: Lešnikov kakavov namaz.\n",
      "8: Izdelek ni med prikazanimi, pokaži naslednje.\n",
      "Za 'KRISTALNI SLADKOR' sem našel naslednje možne zadetke:\n",
      "0: Spusti to sestavino.\n",
      "1: Agragold beli kristalni sladkor\n",
      "2: Spar kristalni sladkor beli.\n",
      "3: Rjavi kristalni nerafinirani trsni sladkor Golden Granulated\n",
      "4: Rjavi kristalni nerafinirani trsni sladkor Demerara\n",
      "5: Rjavi kristalni nerafinirani trsni sladkor Demerara\n",
      "6: Kristalni beli sladkor\n",
      "7: Nerafinirani rjavi kristalni sladkor Dark Muscovado\n",
      "8: Izdelek ni med prikazanimi, pokaži naslednje.\n",
      "Za 'MASLO' sem našel naslednje možne zadetke:\n",
      "0: Spusti to sestavino.\n",
      "1: MASLO POMURSKO 20G\n",
      "2: SPAR MASLO 250 G\n",
      "3: Fino pekovsko pecivo - keksi z maslom\n",
      "4: Fino pekovsko pecivo - keksi z maslom za otroke.\n",
      "5: Maslo z grobo morsko soljo, 80% mlečne maščobe.\n",
      "6: MASLO 82%, S-BUDGET, 250G\n",
      "7: Fino pekovsko pecivo z maslom.\n",
      "8: Izdelek ni med prikazanimi, pokaži naslednje.\n",
      "Za 'PŠENIČNA BELA MOKA' sem našel naslednje možne zadetke:\n",
      "0: Spusti to sestavino.\n",
      "1: Pšenična polbela moka tip 850\n",
      "2: Pšenična bela moka tip 500 5 kg\n",
      "3: Pšenična polbela moka tip 850 1 kg\n",
      "4: Pšenična bela moka tip 400\n",
      "5: Pšenična bela moka tip 500\n",
      "6: PŠENIČNA BELA MOKA tip 500\n",
      "7: PŠENIČNA BELA MOKA tip 500\n",
      "8: Izdelek ni med prikazanimi, pokaži naslednje.\n",
      "Za 'SLADKOR V PRAHU' sem našel naslednje možne zadetke:\n",
      "0: Spusti to sestavino.\n",
      "1: Napitek v prahu z visoko vsebnostjo beljakovin. Prehransko dopolnilo s sladkorji in sladili. Okus piškoti s kremo.\n",
      "2: Napitek v prahu z visoko vsebnostjo beljakovin. Prehransko dopolnilo s sladkorji in sladili. Okus čokolada.\n",
      "3: INSTANT KAVNI NAPITEK V PRAHU Z MANJŠO VSEBNOSTJO SLADKORJA\n",
      "4: Mešanica v prahu za pripravo deserta in karamelizirani sladkor.\n",
      "5: CAPPUCCINO KAPSULE - KAPSULE S POSNETIM MLEKOM V PRAHU, S SLADKORJEM IN KAPSULE S PRAŽENO IN MLETO KAVO.\n",
      "6: Mešanica v prahu za pripravo napitka iz topne kave z rjavim sladkorjem.\n",
      "7: Napitek v prahu z visoko vsebnostjo beljakovin. Prehransko dopolnilo s sladkorji in sladili. Okus vanilija.\n",
      "8: Izdelek ni med prikazanimi, pokaži naslednje.\n"
     ]
    }
   ],
   "source": [
    "sestavine = obravnavaj_sestavine(izdelek.sestavine)"
   ]
  },
  {
   "cell_type": "code",
   "execution_count": 6,
   "metadata": {},
   "outputs": [
    {
     "name": "stdout",
     "output_type": "stream",
     "text": [
      "Za 'jajcaa' sem našel naslednje možne zadetke:\n",
      "0: Spusti to sestavino.\n",
      "1: JAJCA DEBELA XL 10/1 hlevska reja\n",
      "2: JAJCA SPAR NATUR PUR 6/1 min.288g\n",
      "3: Kokošja jajca XL\n",
      "4: JAJCA POSEBNO RUMENA M 12/1 XXL\n",
      "5: Kokošja jajca L\n",
      "6: Jajca iz hlevske reje pakirana po 10 jajc. Velikost XL.\n",
      "7: Jajca iz hlevske reje pakirano po 10 jajc. Velikost L.\n",
      "8: Izdelek ni med prikazanimi, pokaži naslednje.\n"
     ]
    }
   ],
   "source": [
    "sestavine.append(obravnavaj_sestavino(\"jajcaa\"))"
   ]
  },
  {
   "cell_type": "code",
   "execution_count": 7,
   "metadata": {},
   "outputs": [
    {
     "name": "stdout",
     "output_type": "stream",
     "text": [
      "6\n",
      "[Unnamed: 0                                                               1231\n",
      "ime                                            Jodirana rafinirana morska sol\n",
      "sestavine                   natrijev klorid 97,00 %, kalijev jodid, kalije...\n",
      "kolicina                                                                  1kg\n",
      "kcal                                                                     0,00\n",
      "Maščobe                                                                0,00 g\n",
      "od tega nasičene maščobe                                               0,00 g\n",
      "Ogljikovi hidrati                                                      0,00 g\n",
      "od tega sladkorji                                                      0,00 g\n",
      "Prehranske vlaknine                                                     0,0 g\n",
      "Beljakovine                                                            0,00 g\n",
      "Sol                                                                   97,90 g\n",
      "Name: 1231, dtype: object, Unnamed: 0                                                       1459\n",
      "ime                                                   Kakav za pecivo\n",
      "sestavine                   manj masten kakav v prahu 10-12 % maščob.\n",
      "kolicina                                                          70g\n",
      "kcal                                                           288,00\n",
      "Maščobe                                                       10,50 g\n",
      "od tega nasičene maščobe                                       6,40 g\n",
      "Ogljikovi hidrati                                             10,10 g\n",
      "od tega sladkorji                                              0,70 g\n",
      "Prehranske vlaknine                                             0,0 g\n",
      "Beljakovine                                                   22,50 g\n",
      "Sol                                                            0,00 g\n",
      "Name: 1459, dtype: object, Unnamed: 0                                          1121\n",
      "ime                         Spar kristalni sladkor beli.\n",
      "sestavine                              sladkor 100,00 %.\n",
      "kolicina                                             1kg\n",
      "kcal                                              400,00\n",
      "Maščobe                                           0,00 g\n",
      "od tega nasičene maščobe                          0,00 g\n",
      "Ogljikovi hidrati                               100,00 g\n",
      "od tega sladkorji                               100,00 g\n",
      "Prehranske vlaknine                                0,0 g\n",
      "Beljakovine                                       0,00 g\n",
      "Sol                                               0,00 g\n",
      "Name: 1121, dtype: object, Unnamed: 0                                   591\n",
      "ime                             SPAR MASLO 250 G\n",
      "sestavine                   82 % mlečne maščobe.\n",
      "kolicina                                    250g\n",
      "kcal                                      743,00\n",
      "Maščobe                                  82,00 g\n",
      "od tega nasičene maščobe                 53,00 g\n",
      "Ogljikovi hidrati                         0,60 g\n",
      "od tega sladkorji                         0,60 g\n",
      "Prehranske vlaknine                        0,0 g\n",
      "Beljakovine                               0,60 g\n",
      "Sol                                       0,10 g\n",
      "Name: 591, dtype: object, Unnamed: 0                                         6258\n",
      "ime                          Pšenična bela moka tip 500\n",
      "sestavine                   PŠENIČNA BELA MOKA TIP 500.\n",
      "kolicina                                          1,3kg\n",
      "kcal                                             351,00\n",
      "Maščobe                                          1,10 g\n",
      "od tega nasičene maščobe                         0,20 g\n",
      "Ogljikovi hidrati                               72,00 g\n",
      "od tega sladkorji                                1,20 g\n",
      "Prehranske vlaknine                              4,30 g\n",
      "Beljakovine                                     11,00 g\n",
      "Sol                                              0,01 g\n",
      "Name: 6258, dtype: object, Unnamed: 0                                               4910\n",
      "ime                         JAJCA DEBELA XL 10/1 hlevska reja\n",
      "sestavine                                JAJCA NIMA SESTAVIN.\n",
      "kolicina                                                10kos\n",
      "kcal                                                   571,00\n",
      "Maščobe                                                9,40 g\n",
      "od tega nasičene maščobe                               2,35 g\n",
      "Ogljikovi hidrati                                      1,10 g\n",
      "od tega sladkorji                                      1,10 g\n",
      "Prehranske vlaknine                                     0,0 g\n",
      "Beljakovine                                           12,00 g\n",
      "Sol                                                    0,34 g\n",
      "Name: 4910, dtype: object]\n"
     ]
    }
   ],
   "source": [
    "print(len(sestavine))\n",
    "print(sestavine)"
   ]
  },
  {
   "cell_type": "code",
   "execution_count": 8,
   "metadata": {},
   "outputs": [
    {
     "data": {
      "text/html": [
       "<div>\n",
       "<style scoped>\n",
       "    .dataframe tbody tr th:only-of-type {\n",
       "        vertical-align: middle;\n",
       "    }\n",
       "\n",
       "    .dataframe tbody tr th {\n",
       "        vertical-align: top;\n",
       "    }\n",
       "\n",
       "    .dataframe thead th {\n",
       "        text-align: right;\n",
       "    }\n",
       "</style>\n",
       "<table border=\"1\" class=\"dataframe\">\n",
       "  <thead>\n",
       "    <tr style=\"text-align: right;\">\n",
       "      <th></th>\n",
       "      <th>1231</th>\n",
       "      <th>1459</th>\n",
       "      <th>1121</th>\n",
       "      <th>591</th>\n",
       "      <th>6258</th>\n",
       "      <th>4910</th>\n",
       "    </tr>\n",
       "  </thead>\n",
       "  <tbody>\n",
       "    <tr>\n",
       "      <th>Unnamed: 0</th>\n",
       "      <td>1231</td>\n",
       "      <td>1459</td>\n",
       "      <td>1121</td>\n",
       "      <td>591</td>\n",
       "      <td>6258</td>\n",
       "      <td>4910</td>\n",
       "    </tr>\n",
       "    <tr>\n",
       "      <th>ime</th>\n",
       "      <td>Jodirana rafinirana morska sol</td>\n",
       "      <td>Kakav za pecivo</td>\n",
       "      <td>Spar kristalni sladkor beli.</td>\n",
       "      <td>SPAR MASLO 250 G</td>\n",
       "      <td>Pšenična bela moka tip 500</td>\n",
       "      <td>JAJCA DEBELA XL 10/1 hlevska reja</td>\n",
       "    </tr>\n",
       "    <tr>\n",
       "      <th>sestavine</th>\n",
       "      <td>natrijev klorid 97,00 %, kalijev jodid, kalije...</td>\n",
       "      <td>manj masten kakav v prahu 10-12 % maščob.</td>\n",
       "      <td>sladkor 100,00 %.</td>\n",
       "      <td>82 % mlečne maščobe.</td>\n",
       "      <td>PŠENIČNA BELA MOKA TIP 500.</td>\n",
       "      <td>JAJCA NIMA SESTAVIN.</td>\n",
       "    </tr>\n",
       "    <tr>\n",
       "      <th>kolicina</th>\n",
       "      <td>1kg</td>\n",
       "      <td>70g</td>\n",
       "      <td>1kg</td>\n",
       "      <td>250g</td>\n",
       "      <td>1,3kg</td>\n",
       "      <td>10kos</td>\n",
       "    </tr>\n",
       "    <tr>\n",
       "      <th>kcal</th>\n",
       "      <td>0,00</td>\n",
       "      <td>288,00</td>\n",
       "      <td>400,00</td>\n",
       "      <td>743,00</td>\n",
       "      <td>351,00</td>\n",
       "      <td>571,00</td>\n",
       "    </tr>\n",
       "    <tr>\n",
       "      <th>Maščobe</th>\n",
       "      <td>0,00 g</td>\n",
       "      <td>10,50 g</td>\n",
       "      <td>0,00 g</td>\n",
       "      <td>82,00 g</td>\n",
       "      <td>1,10 g</td>\n",
       "      <td>9,40 g</td>\n",
       "    </tr>\n",
       "    <tr>\n",
       "      <th>od tega nasičene maščobe</th>\n",
       "      <td>0,00 g</td>\n",
       "      <td>6,40 g</td>\n",
       "      <td>0,00 g</td>\n",
       "      <td>53,00 g</td>\n",
       "      <td>0,20 g</td>\n",
       "      <td>2,35 g</td>\n",
       "    </tr>\n",
       "    <tr>\n",
       "      <th>Ogljikovi hidrati</th>\n",
       "      <td>0,00 g</td>\n",
       "      <td>10,10 g</td>\n",
       "      <td>100,00 g</td>\n",
       "      <td>0,60 g</td>\n",
       "      <td>72,00 g</td>\n",
       "      <td>1,10 g</td>\n",
       "    </tr>\n",
       "    <tr>\n",
       "      <th>od tega sladkorji</th>\n",
       "      <td>0,00 g</td>\n",
       "      <td>0,70 g</td>\n",
       "      <td>100,00 g</td>\n",
       "      <td>0,60 g</td>\n",
       "      <td>1,20 g</td>\n",
       "      <td>1,10 g</td>\n",
       "    </tr>\n",
       "    <tr>\n",
       "      <th>Prehranske vlaknine</th>\n",
       "      <td>0,0 g</td>\n",
       "      <td>0,0 g</td>\n",
       "      <td>0,0 g</td>\n",
       "      <td>0,0 g</td>\n",
       "      <td>4,30 g</td>\n",
       "      <td>0,0 g</td>\n",
       "    </tr>\n",
       "    <tr>\n",
       "      <th>Beljakovine</th>\n",
       "      <td>0,00 g</td>\n",
       "      <td>22,50 g</td>\n",
       "      <td>0,00 g</td>\n",
       "      <td>0,60 g</td>\n",
       "      <td>11,00 g</td>\n",
       "      <td>12,00 g</td>\n",
       "    </tr>\n",
       "    <tr>\n",
       "      <th>Sol</th>\n",
       "      <td>97,90 g</td>\n",
       "      <td>0,00 g</td>\n",
       "      <td>0,00 g</td>\n",
       "      <td>0,10 g</td>\n",
       "      <td>0,01 g</td>\n",
       "      <td>0,34 g</td>\n",
       "    </tr>\n",
       "  </tbody>\n",
       "</table>\n",
       "</div>"
      ],
      "text/plain": [
       "                                                                       1231  \\\n",
       "Unnamed: 0                                                             1231   \n",
       "ime                                          Jodirana rafinirana morska sol   \n",
       "sestavine                 natrijev klorid 97,00 %, kalijev jodid, kalije...   \n",
       "kolicina                                                                1kg   \n",
       "kcal                                                                   0,00   \n",
       "Maščobe                                                              0,00 g   \n",
       "od tega nasičene maščobe                                             0,00 g   \n",
       "Ogljikovi hidrati                                                    0,00 g   \n",
       "od tega sladkorji                                                    0,00 g   \n",
       "Prehranske vlaknine                                                   0,0 g   \n",
       "Beljakovine                                                          0,00 g   \n",
       "Sol                                                                 97,90 g   \n",
       "\n",
       "                                                               1459  \\\n",
       "Unnamed: 0                                                     1459   \n",
       "ime                                                 Kakav za pecivo   \n",
       "sestavine                 manj masten kakav v prahu 10-12 % maščob.   \n",
       "kolicina                                                        70g   \n",
       "kcal                                                         288,00   \n",
       "Maščobe                                                     10,50 g   \n",
       "od tega nasičene maščobe                                     6,40 g   \n",
       "Ogljikovi hidrati                                           10,10 g   \n",
       "od tega sladkorji                                            0,70 g   \n",
       "Prehranske vlaknine                                           0,0 g   \n",
       "Beljakovine                                                 22,50 g   \n",
       "Sol                                                          0,00 g   \n",
       "\n",
       "                                                  1121                  591   \\\n",
       "Unnamed: 0                                        1121                   591   \n",
       "ime                       Spar kristalni sladkor beli.      SPAR MASLO 250 G   \n",
       "sestavine                            sladkor 100,00 %.  82 % mlečne maščobe.   \n",
       "kolicina                                           1kg                  250g   \n",
       "kcal                                            400,00                743,00   \n",
       "Maščobe                                         0,00 g               82,00 g   \n",
       "od tega nasičene maščobe                        0,00 g               53,00 g   \n",
       "Ogljikovi hidrati                             100,00 g                0,60 g   \n",
       "od tega sladkorji                             100,00 g                0,60 g   \n",
       "Prehranske vlaknine                              0,0 g                 0,0 g   \n",
       "Beljakovine                                     0,00 g                0,60 g   \n",
       "Sol                                             0,00 g                0,10 g   \n",
       "\n",
       "                                                 6258  \\\n",
       "Unnamed: 0                                       6258   \n",
       "ime                        Pšenična bela moka tip 500   \n",
       "sestavine                 PŠENIČNA BELA MOKA TIP 500.   \n",
       "kolicina                                        1,3kg   \n",
       "kcal                                           351,00   \n",
       "Maščobe                                        1,10 g   \n",
       "od tega nasičene maščobe                       0,20 g   \n",
       "Ogljikovi hidrati                             72,00 g   \n",
       "od tega sladkorji                              1,20 g   \n",
       "Prehranske vlaknine                            4,30 g   \n",
       "Beljakovine                                   11,00 g   \n",
       "Sol                                            0,01 g   \n",
       "\n",
       "                                                       4910  \n",
       "Unnamed: 0                                             4910  \n",
       "ime                       JAJCA DEBELA XL 10/1 hlevska reja  \n",
       "sestavine                              JAJCA NIMA SESTAVIN.  \n",
       "kolicina                                              10kos  \n",
       "kcal                                                 571,00  \n",
       "Maščobe                                              9,40 g  \n",
       "od tega nasičene maščobe                             2,35 g  \n",
       "Ogljikovi hidrati                                    1,10 g  \n",
       "od tega sladkorji                                    1,10 g  \n",
       "Prehranske vlaknine                                   0,0 g  \n",
       "Beljakovine                                         12,00 g  \n",
       "Sol                                                  0,34 g  "
      ]
     },
     "execution_count": 8,
     "metadata": {},
     "output_type": "execute_result"
    }
   ],
   "source": [
    "import pandas as pd\n",
    "f=lambda x: dobi_stevilo_iz_niza(x)\n",
    "pd.concat(sestavine, axis=1)"
   ]
  },
  {
   "cell_type": "markdown",
   "metadata": {},
   "source": [
    "Preden se lotimo glavnega dela omenimo nekaj opazk in omemb:\n",
    "- kcal lahko izračunamo iz makrohranil, torej je odvisna spremenljivka, \n",
    "- prepostavljamo, da je vsota makrohranil piškotov linearna kombinacija makrohranil sestavin,\n",
    "- imamo 7 neodvisnih spremenljivk makrohranil, in več kot 7 sestavin(nekatere smo že izpustili, npr. amonijev hidrogenkarbonat),\n",
    "- sestavine so urejen po njihovi masi, zato so končne sestavine v manjših količinah,\n",
    "- poleg makrohranil vsebuje izdelek tudi druge snovi, ki niso nikjer štete, glavna med njimi je voda."
   ]
  },
  {
   "cell_type": "code",
   "execution_count": 85,
   "metadata": {},
   "outputs": [
    {
     "name": "stdout",
     "output_type": "stream",
     "text": [
      "Index(['Maščobe', 'od tega nasičene maščobe', 'Ogljikovi hidrati',\n",
      "       'od tega sladkorji', 'Prehranske vlaknine', 'Beljakovine', 'Sol'],\n",
      "      dtype='object')\n",
      "Index(['Maščobe', 'od tega nasičene maščobe', 'Ogljikovi hidrati',\n",
      "       'od tega sladkorji', 'Beljakovine', 'Sol'],\n",
      "      dtype='object')\n",
      "[[0.00e+00 1.05e+01 0.00e+00 8.20e+01 1.10e+00 9.40e+00]\n",
      " [0.00e+00 6.40e+00 0.00e+00 5.30e+01 2.00e-01 2.35e+00]\n",
      " [0.00e+00 1.01e+01 1.00e+02 6.00e-01 7.20e+01 1.10e+00]\n",
      " [0.00e+00 7.00e-01 1.00e+02 6.00e-01 1.20e+00 1.10e+00]\n",
      " [0.00e+00 2.25e+01 0.00e+00 6.00e-01 1.10e+01 1.20e+01]\n",
      " [9.79e+01 0.00e+00 0.00e+00 1.00e-01 1.00e-02 3.40e-01]]\n",
      "6\n"
     ]
    }
   ],
   "source": [
    "seznam_macro_hranil_skrajšan = seznam_macro_hranil.copy()\n",
    "seznam_macro_hranil_skrajšan= seznam_macro_hranil_skrajšan.delete(4) #(*)\n",
    "\n",
    "matrika_sestavin= pd.concat(sestavine, axis=1)  \n",
    "\n",
    "matrika = matrika_sestavin.loc[seznam_macro_hranil_skrajšan].values\n",
    "import numpy as np\n",
    "matrika = (np.vectorize(dobi_stevilo_iz_niza))(matrika)\n",
    "\n",
    "print(matrika)\n",
    "print(np.linalg.matrix_rank(matrika))"
   ]
  },
  {
   "cell_type": "markdown",
   "metadata": {},
   "source": [
    "Zdaj bomo poskusili analizirati recept. Vzeli bomo 6 sestavin in 6 neodvisnih spremenljivk."
   ]
  },
  {
   "cell_type": "code",
   "execution_count": 86,
   "metadata": {},
   "outputs": [
    {
     "name": "stdout",
     "output_type": "stream",
     "text": [
      "                                       0\n",
      "Jodirana rafinirana morska sol      0.11\n",
      "Kakav za pecivo                     5.42\n",
      "Spar kristalni sladkor beli.       18.28\n",
      "SPAR MASLO 250 G                   29.47\n",
      "Pšenična bela moka tip 500         44.48\n",
      "JAJCA DEBELA XL 10/1 hlevska reja  -2.41\n"
     ]
    },
    {
     "data": {
      "text/plain": [
       "<AxesSubplot:>"
      ]
     },
     "execution_count": 86,
     "metadata": {},
     "output_type": "execute_result"
    },
    {
     "data": {
      "image/png": "[encoded data removed]",
      "text/plain": [
       "<Figure size 640x480 with 1 Axes>"
      ]
     },
     "metadata": {},
     "output_type": "display_data"
    }
   ],
   "source": [
    "inv = np.linalg.inv(matrika/100)\n",
    "\n",
    "rezultat = inv.dot(makro_hranila[seznam_macro_hranil_skrajšan].values)\n",
    "rezultat = np.around(rezultat, 2)\n",
    "\n",
    "imena = [s.ime for s in sestavine]\n",
    "rezultat_df = pd.DataFrame(rezultat)\n",
    "rezultat_df.index=imena\n",
    "print(rezultat_df)\n",
    "\n",
    "rezultat_df.plot( kind='bar')"
   ]
  },
  {
   "cell_type": "markdown",
   "metadata": {},
   "source": [
    "Pri obdelavi smo ugotovili, da imamo več podatkov makrohranil, kot je sestavin. Zato smo odstranili podatek o prehranskih vlakninah (označeno z (*)). Kaj če odstranimo kakšno drugo hranilno vrednost?"
   ]
  },
  {
   "cell_type": "code",
   "execution_count": 127,
   "metadata": {},
   "outputs": [
    {
     "name": "stdout",
     "output_type": "stream",
     "text": [
      "['Jodirana rafinirana morska sol', 'Kakav za pecivo', 'Spar kristalni sladkor beli.', 'SPAR MASLO 250 G', 'Pšenična bela moka tip 500', 'JAJCA DEBELA XL 10/1 hlevska reja']\n"
     ]
    },
    {
     "data": {
      "text/plain": [
       "<AxesSubplot:>"
      ]
     },
     "execution_count": 127,
     "metadata": {},
     "output_type": "execute_result"
    },
    {
     "data": {
      "image/png": "[encoded data removed]",
      "text/plain": [
       "<Figure size 640x480 with 1 Axes>"
      ]
     },
     "metadata": {},
     "output_type": "display_data"
    }
   ],
   "source": [
    "razlicni_df = pd.DataFrame(columns=imena)\n",
    "print(imena)\n",
    "\n",
    "for i in range(len(seznam_macro_hranil)):\n",
    "    seznam_macro_hranil_skrajšan = seznam_macro_hranil.copy()\n",
    "    seznam_macro_hranil_skrajšan = seznam_macro_hranil_skrajšan.delete(i)  # (*)\n",
    "\n",
    "    matrika_sestavin = pd.concat(sestavine, axis=1)\n",
    "\n",
    "    matrika = matrika_sestavin.loc[seznam_macro_hranil_skrajšan].values\n",
    "    matrika = (np.vectorize(dobi_stevilo_iz_niza))(matrika)\n",
    "\n",
    "    if np.linalg.matrix_rank(matrika) < 6:\n",
    "        continue\n",
    "\n",
    "    inv = np.linalg.inv(matrika/100)\n",
    "\n",
    "    rezultat = inv.dot(makro_hranila[seznam_macro_hranil_skrajšan].values)\n",
    "    rezultat = np.around(rezultat, 2)\n",
    "\n",
    "    razlicni_df = razlicni_df.append(pd.DataFrame(\n",
    "        [rezultat], columns=imena), ignore_index=True)\n",
    "\n",
    "razlicni_df.transpose().plot.barh()\n"
   ]
  }
 ],
 "metadata": {
  "interpreter": {
   "hash": "ac59ebe37160ed0dfa835113d9b8498d9f09ceb179beaac4002f036b9467c963"
  },
  "kernelspec": {
   "display_name": "Python 3.9.6 64-bit",
   "language": "python",
   "name": "python3"
  },
  "language_info": {
   "codemirror_mode": {
    "name": "ipython",
    "version": 3
   },
   "file_extension": ".py",
   "mimetype": "text/x-python",
   "name": "python",
   "nbconvert_exporter": "python",
   "pygments_lexer": "ipython3",
   "version": "3.9.6"
  },
  "orig_nbformat": 4
 },
 "nbformat": 4,
 "nbformat_minor": 2
}
